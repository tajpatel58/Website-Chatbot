{
 "cells": [
  {
   "cell_type": "code",
   "execution_count": 15,
   "metadata": {},
   "outputs": [
    {
     "name": "stdout",
     "output_type": "stream",
     "text": [
      "['i', 'me', 'my', 'myself', 'we', 'our', 'ours', 'ourselves', 'you', \"you're\", \"you've\", \"you'll\", \"you'd\", 'your', 'yours', 'yourself', 'yourselves', 'he', 'him', 'his', 'himself', 'she', \"she's\", 'her', 'hers', 'herself', 'it', \"it's\", 'its', 'itself', 'they', 'them', 'their', 'theirs', 'themselves', 'what', 'which', 'who', 'whom', 'this', 'that', \"that'll\", 'these', 'those', 'am', 'is', 'are', 'was', 'were', 'be', 'been', 'being', 'have', 'has', 'had', 'having', 'do', 'does', 'did', 'doing', 'a', 'an', 'the', 'and', 'but', 'if', 'or', 'because', 'as', 'until', 'while', 'of', 'at', 'by', 'for', 'with', 'about', 'against', 'between', 'into', 'through', 'during', 'before', 'after', 'above', 'below', 'to', 'from', 'up', 'down', 'in', 'out', 'on', 'off', 'over', 'under', 'again', 'further', 'then', 'once', 'here', 'there', 'when', 'where', 'why', 'how', 'all', 'any', 'both', 'each', 'few', 'more', 'most', 'other', 'some', 'such', 'no', 'nor', 'not', 'only', 'own', 'same', 'so', 'than', 'too', 'very', 's', 't', 'can', 'will', 'just', 'don', \"don't\", 'should', \"should've\", 'now', 'd', 'll', 'm', 'o', 're', 've', 'y', 'ain', 'aren', \"aren't\", 'couldn', \"couldn't\", 'didn', \"didn't\", 'doesn', \"doesn't\", 'hadn', \"hadn't\", 'hasn', \"hasn't\", 'haven', \"haven't\", 'isn', \"isn't\", 'ma', 'mightn', \"mightn't\", 'mustn', \"mustn't\", 'needn', \"needn't\", 'shan', \"shan't\", 'shouldn', \"shouldn't\", 'wasn', \"wasn't\", 'weren', \"weren't\", 'won', \"won't\", 'wouldn', \"wouldn't\"]\n"
     ]
    },
    {
     "name": "stderr",
     "output_type": "stream",
     "text": [
      "[nltk_data] Downloading package stopwords to /Users/taj/nltk_data...\n",
      "[nltk_data]   Package stopwords is already up-to-date!\n"
     ]
    }
   ],
   "source": [
    "import pandas as pd\n",
    "import json\n",
    "from nltk.stem import PorterStemmer\n",
    "\n",
    "import nltk\n",
    "from nltk.corpus import stopwords\n",
    " \n",
    "nltk.download('stopwords')\n",
    "print(stopwords.words('english'))"
   ]
  },
  {
   "cell_type": "code",
   "execution_count": 13,
   "metadata": {},
   "outputs": [],
   "source": [
    "import torch\n",
    "from nltk.stem import PorterStemmer\n",
    "\n",
    "\n",
    "def clean_text(text: str, stemmer: PorterStemmer, stop_words: list) -> list:\n",
    "    lowered_text = text.lower()\n",
    "    list_text = lowered_text.split(\" \")\n",
    "    clean_text = [stemmer.stem(word) for word in list_text if word not in stop_words]\n",
    "    return clean_text\n",
    "\n",
    "\n",
    "def bag_of_words(tokenized_text: list, bag: list) -> torch.Tensor:\n",
    "    feature_vec = torch.zeros(len(bag))\n",
    "    for idx, word in enumerate(bag):\n",
    "        if word in tokenized_text:\n",
    "            feature_vec[idx] = 1\n",
    "        else:\n",
    "            continue\n",
    "    return feature_vec\n"
   ]
  },
  {
   "cell_type": "code",
   "execution_count": 3,
   "metadata": {},
   "outputs": [],
   "source": [
    "with open(\"./message_data.json\", \"r\") as f:\n",
    "    data = json.load(f)"
   ]
  },
  {
   "cell_type": "code",
   "execution_count": 4,
   "metadata": {},
   "outputs": [
    {
     "name": "stdout",
     "output_type": "stream",
     "text": [
      "{'messages': [{'tag': 'greeting', 'keywords': ['Hello', 'Hi', 'Hey'], 'responses': [\"Hi there, nice to meet you! Hope you're having a nice day. :)\"]}, {'tag': 'darktrace', 'keywords': ['What did you do at Darktrace?', 'What were your responsibilities at Darktrace?'], 'responses': ['At Darktrace I: <br> - Developed a lead scoring model to rank leads brought in through different channels. <br> - Developed a forecasting model to determine lead requirements from different channels. <br> - Data mining and created dashboards on PowerBi for stakeholders.']}, {'tag': 'hobbies', 'keywords': ['What do you like to do in your free time?', 'What are some of your hobbies?', 'Whare are your interests?'], 'responses': ['In my spare time I like to do things that keep me fit so I can eat more when I go out! :D I enjoy bouldering/ rock climbing/ snooker and cooking.']}, {'tag': 'technologies', 'keywords': ['What technologies do you know?', \"What's your data science stack?\"], 'responses': [\"I feel comfortable with a few of the main Python packages: Numpy, Pandas, PyTorch and I also have a lot of experience with SQL. I'm currently focusing on bettering myself with SkLearn and Docker.\"]}, {'tag': 'birthday', 'keywords': ['When is your birthday?'], 'responses': ['My birthday is the 29th of August 1998']}, {'tag': 'colour', 'keywords': [\"What's your favourite colour?\"], 'responses': ['My favourite colour is purple']}, {'tag': 'education', 'keywords': ['What did you study at Imperial?', 'What did you study at Warwick?'], 'response': ['During my time at Warwick and Imperial, I focused on solving differential equations and probability theory. So quite different from Data science but still makes it easier to understand the Statistical and Mathematical theory behind machine learning.']}]}\n"
     ]
    }
   ],
   "source": [
    "print(data)"
   ]
  },
  {
   "cell_type": "code",
   "execution_count": 5,
   "metadata": {},
   "outputs": [
    {
     "data": {
      "text/plain": [
       "[{'tag': 'greeting',\n",
       "  'keywords': ['Hello', 'Hi', 'Hey'],\n",
       "  'responses': [\"Hi there, nice to meet you! Hope you're having a nice day. :)\"]},\n",
       " {'tag': 'darktrace',\n",
       "  'keywords': ['What did you do at Darktrace?',\n",
       "   'What were your responsibilities at Darktrace?'],\n",
       "  'responses': ['At Darktrace I: <br> - Developed a lead scoring model to rank leads brought in through different channels. <br> - Developed a forecasting model to determine lead requirements from different channels. <br> - Data mining and created dashboards on PowerBi for stakeholders.']},\n",
       " {'tag': 'hobbies',\n",
       "  'keywords': ['What do you like to do in your free time?',\n",
       "   'What are some of your hobbies?',\n",
       "   'Whare are your interests?'],\n",
       "  'responses': ['In my spare time I like to do things that keep me fit so I can eat more when I go out! :D I enjoy bouldering/ rock climbing/ snooker and cooking.']},\n",
       " {'tag': 'technologies',\n",
       "  'keywords': ['What technologies do you know?',\n",
       "   \"What's your data science stack?\"],\n",
       "  'responses': [\"I feel comfortable with a few of the main Python packages: Numpy, Pandas, PyTorch and I also have a lot of experience with SQL. I'm currently focusing on bettering myself with SkLearn and Docker.\"]},\n",
       " {'tag': 'birthday',\n",
       "  'keywords': ['When is your birthday?'],\n",
       "  'responses': ['My birthday is the 29th of August 1998']},\n",
       " {'tag': 'colour',\n",
       "  'keywords': [\"What's your favourite colour?\"],\n",
       "  'responses': ['My favourite colour is purple']},\n",
       " {'tag': 'education',\n",
       "  'keywords': ['What did you study at Imperial?',\n",
       "   'What did you study at Warwick?'],\n",
       "  'response': ['During my time at Warwick and Imperial, I focused on solving differential equations and probability theory. So quite different from Data science but still makes it easier to understand the Statistical and Mathematical theory behind machine learning.']}]"
      ]
     },
     "execution_count": 5,
     "metadata": {},
     "output_type": "execute_result"
    }
   ],
   "source": [
    "data[\"messages\"]"
   ]
  },
  {
   "cell_type": "code",
   "execution_count": 10,
   "metadata": {},
   "outputs": [
    {
     "name": "stdout",
     "output_type": "stream",
     "text": [
      "{'tag': 'greeting', 'keywords': ['Hello', 'Hi', 'Hey'], 'responses': [\"Hi there, nice to meet you! Hope you're having a nice day. :)\"]}\n",
      "{'tag': 'darktrace', 'keywords': ['What did you do at Darktrace?', 'What were your responsibilities at Darktrace?'], 'responses': ['At Darktrace I: <br> - Developed a lead scoring model to rank leads brought in through different channels. <br> - Developed a forecasting model to determine lead requirements from different channels. <br> - Data mining and created dashboards on PowerBi for stakeholders.']}\n",
      "{'tag': 'hobbies', 'keywords': ['What do you like to do in your free time?', 'What are some of your hobbies?', 'Whare are your interests?'], 'responses': ['In my spare time I like to do things that keep me fit so I can eat more when I go out! :D I enjoy bouldering/ rock climbing/ snooker and cooking.']}\n",
      "{'tag': 'technologies', 'keywords': ['What technologies do you know?', \"What's your data science stack?\"], 'responses': [\"I feel comfortable with a few of the main Python packages: Numpy, Pandas, PyTorch and I also have a lot of experience with SQL. I'm currently focusing on bettering myself with SkLearn and Docker.\"]}\n",
      "{'tag': 'birthday', 'keywords': ['When is your birthday?'], 'responses': ['My birthday is the 29th of August 1998']}\n",
      "{'tag': 'colour', 'keywords': [\"What's your favourite colour?\"], 'responses': ['My favourite colour is purple']}\n",
      "{'tag': 'education', 'keywords': ['What did you study at Imperial?', 'What did you study at Warwick?'], 'response': ['During my time at Warwick and Imperial, I focused on solving differential equations and probability theory. So quite different from Data science but still makes it easier to understand the Statistical and Mathematical theory behind machine learning.']}\n"
     ]
    }
   ],
   "source": [
    "df_list = []\n",
    "for dictt in data[\"messages\"]:\n",
    "    print(dictt)\n",
    "    df = pd.DataFrame({\"keywords\" : dictt[\"keywords\"]})\n",
    "    df[\"question_type\"] = dictt[\"tag\"]\n",
    "    df_list.append(df)\n",
    "cleaned_df = pd.concat(df_list, axis=0).reset_index(drop=True)"
   ]
  },
  {
   "cell_type": "code",
   "execution_count": 11,
   "metadata": {},
   "outputs": [
    {
     "data": {
      "text/html": [
       "<div>\n",
       "<style scoped>\n",
       "    .dataframe tbody tr th:only-of-type {\n",
       "        vertical-align: middle;\n",
       "    }\n",
       "\n",
       "    .dataframe tbody tr th {\n",
       "        vertical-align: top;\n",
       "    }\n",
       "\n",
       "    .dataframe thead th {\n",
       "        text-align: right;\n",
       "    }\n",
       "</style>\n",
       "<table border=\"1\" class=\"dataframe\">\n",
       "  <thead>\n",
       "    <tr style=\"text-align: right;\">\n",
       "      <th></th>\n",
       "      <th>keywords</th>\n",
       "      <th>question_type</th>\n",
       "    </tr>\n",
       "  </thead>\n",
       "  <tbody>\n",
       "    <tr>\n",
       "      <th>0</th>\n",
       "      <td>Hello</td>\n",
       "      <td>greeting</td>\n",
       "    </tr>\n",
       "    <tr>\n",
       "      <th>1</th>\n",
       "      <td>Hi</td>\n",
       "      <td>greeting</td>\n",
       "    </tr>\n",
       "    <tr>\n",
       "      <th>2</th>\n",
       "      <td>Hey</td>\n",
       "      <td>greeting</td>\n",
       "    </tr>\n",
       "    <tr>\n",
       "      <th>3</th>\n",
       "      <td>What did you do at Darktrace?</td>\n",
       "      <td>darktrace</td>\n",
       "    </tr>\n",
       "    <tr>\n",
       "      <th>4</th>\n",
       "      <td>What were your responsibilities at Darktrace?</td>\n",
       "      <td>darktrace</td>\n",
       "    </tr>\n",
       "  </tbody>\n",
       "</table>\n",
       "</div>"
      ],
      "text/plain": [
       "                                        keywords question_type\n",
       "0                                          Hello      greeting\n",
       "1                                             Hi      greeting\n",
       "2                                            Hey      greeting\n",
       "3                  What did you do at Darktrace?     darktrace\n",
       "4  What were your responsibilities at Darktrace?     darktrace"
      ]
     },
     "execution_count": 11,
     "metadata": {},
     "output_type": "execute_result"
    }
   ],
   "source": [
    "cleaned_df.head()"
   ]
  },
  {
   "cell_type": "code",
   "execution_count": 12,
   "metadata": {},
   "outputs": [
    {
     "data": {
      "text/plain": [
       "keywords              Hey\n",
       "question_type    greeting\n",
       "Name: 2, dtype: object"
      ]
     },
     "execution_count": 12,
     "metadata": {},
     "output_type": "execute_result"
    }
   ],
   "source": [
    "cleaned_df.iloc[2]"
   ]
  },
  {
   "cell_type": "code",
   "execution_count": 19,
   "metadata": {},
   "outputs": [],
   "source": [
    "cleaned_df[\"no_punc\"] = cleaned_df[\"keywords\"].str.replace(\n",
    "        r\"[^[a-zA-Z\\s]\", \"\", regex=True\n",
    "    )"
   ]
  },
  {
   "cell_type": "code",
   "execution_count": 20,
   "metadata": {},
   "outputs": [
    {
     "data": {
      "text/html": [
       "<div>\n",
       "<style scoped>\n",
       "    .dataframe tbody tr th:only-of-type {\n",
       "        vertical-align: middle;\n",
       "    }\n",
       "\n",
       "    .dataframe tbody tr th {\n",
       "        vertical-align: top;\n",
       "    }\n",
       "\n",
       "    .dataframe thead th {\n",
       "        text-align: right;\n",
       "    }\n",
       "</style>\n",
       "<table border=\"1\" class=\"dataframe\">\n",
       "  <thead>\n",
       "    <tr style=\"text-align: right;\">\n",
       "      <th></th>\n",
       "      <th>keywords</th>\n",
       "      <th>question_type</th>\n",
       "      <th>cleaned_text</th>\n",
       "      <th>no_punc</th>\n",
       "    </tr>\n",
       "  </thead>\n",
       "  <tbody>\n",
       "    <tr>\n",
       "      <th>0</th>\n",
       "      <td>Hello</td>\n",
       "      <td>greeting</td>\n",
       "      <td>[hello]</td>\n",
       "      <td>Hello</td>\n",
       "    </tr>\n",
       "    <tr>\n",
       "      <th>1</th>\n",
       "      <td>Hi</td>\n",
       "      <td>greeting</td>\n",
       "      <td>[hi]</td>\n",
       "      <td>Hi</td>\n",
       "    </tr>\n",
       "    <tr>\n",
       "      <th>2</th>\n",
       "      <td>Hey</td>\n",
       "      <td>greeting</td>\n",
       "      <td>[hey]</td>\n",
       "      <td>Hey</td>\n",
       "    </tr>\n",
       "    <tr>\n",
       "      <th>3</th>\n",
       "      <td>What did you do at Darktrace?</td>\n",
       "      <td>darktrace</td>\n",
       "      <td>[darktrace?]</td>\n",
       "      <td>What did you do at Darktrace</td>\n",
       "    </tr>\n",
       "    <tr>\n",
       "      <th>4</th>\n",
       "      <td>What were your responsibilities at Darktrace?</td>\n",
       "      <td>darktrace</td>\n",
       "      <td>[respons, darktrace?]</td>\n",
       "      <td>What were your responsibilities at Darktrace</td>\n",
       "    </tr>\n",
       "  </tbody>\n",
       "</table>\n",
       "</div>"
      ],
      "text/plain": [
       "                                        keywords question_type  \\\n",
       "0                                          Hello      greeting   \n",
       "1                                             Hi      greeting   \n",
       "2                                            Hey      greeting   \n",
       "3                  What did you do at Darktrace?     darktrace   \n",
       "4  What were your responsibilities at Darktrace?     darktrace   \n",
       "\n",
       "            cleaned_text                                       no_punc  \n",
       "0                [hello]                                         Hello  \n",
       "1                   [hi]                                            Hi  \n",
       "2                  [hey]                                           Hey  \n",
       "3           [darktrace?]                  What did you do at Darktrace  \n",
       "4  [respons, darktrace?]  What were your responsibilities at Darktrace  "
      ]
     },
     "execution_count": 20,
     "metadata": {},
     "output_type": "execute_result"
    }
   ],
   "source": [
    "cleaned_df.head()"
   ]
  },
  {
   "cell_type": "markdown",
   "metadata": {},
   "source": []
  },
  {
   "cell_type": "code",
   "execution_count": 21,
   "metadata": {},
   "outputs": [],
   "source": [
    "cleaned_df[\"cleaned_text\"] = cleaned_df[\"no_punc\"].apply(clean_text, args=(PorterStemmer(), stopwords.words('english')))"
   ]
  },
  {
   "cell_type": "code",
   "execution_count": 23,
   "metadata": {},
   "outputs": [
    {
     "data": {
      "text/html": [
       "<div>\n",
       "<style scoped>\n",
       "    .dataframe tbody tr th:only-of-type {\n",
       "        vertical-align: middle;\n",
       "    }\n",
       "\n",
       "    .dataframe tbody tr th {\n",
       "        vertical-align: top;\n",
       "    }\n",
       "\n",
       "    .dataframe thead th {\n",
       "        text-align: right;\n",
       "    }\n",
       "</style>\n",
       "<table border=\"1\" class=\"dataframe\">\n",
       "  <thead>\n",
       "    <tr style=\"text-align: right;\">\n",
       "      <th></th>\n",
       "      <th>keywords</th>\n",
       "      <th>question_type</th>\n",
       "      <th>cleaned_text</th>\n",
       "      <th>no_punc</th>\n",
       "    </tr>\n",
       "  </thead>\n",
       "  <tbody>\n",
       "    <tr>\n",
       "      <th>0</th>\n",
       "      <td>Hello</td>\n",
       "      <td>greeting</td>\n",
       "      <td>[hello]</td>\n",
       "      <td>Hello</td>\n",
       "    </tr>\n",
       "    <tr>\n",
       "      <th>1</th>\n",
       "      <td>Hi</td>\n",
       "      <td>greeting</td>\n",
       "      <td>[hi]</td>\n",
       "      <td>Hi</td>\n",
       "    </tr>\n",
       "    <tr>\n",
       "      <th>2</th>\n",
       "      <td>Hey</td>\n",
       "      <td>greeting</td>\n",
       "      <td>[hey]</td>\n",
       "      <td>Hey</td>\n",
       "    </tr>\n",
       "    <tr>\n",
       "      <th>3</th>\n",
       "      <td>What did you do at Darktrace?</td>\n",
       "      <td>darktrace</td>\n",
       "      <td>[darktrac]</td>\n",
       "      <td>What did you do at Darktrace</td>\n",
       "    </tr>\n",
       "    <tr>\n",
       "      <th>4</th>\n",
       "      <td>What were your responsibilities at Darktrace?</td>\n",
       "      <td>darktrace</td>\n",
       "      <td>[respons, darktrac]</td>\n",
       "      <td>What were your responsibilities at Darktrace</td>\n",
       "    </tr>\n",
       "    <tr>\n",
       "      <th>5</th>\n",
       "      <td>What do you like to do in your free time?</td>\n",
       "      <td>hobbies</td>\n",
       "      <td>[like, free, time]</td>\n",
       "      <td>What do you like to do in your free time</td>\n",
       "    </tr>\n",
       "    <tr>\n",
       "      <th>6</th>\n",
       "      <td>What are some of your hobbies?</td>\n",
       "      <td>hobbies</td>\n",
       "      <td>[hobbi]</td>\n",
       "      <td>What are some of your hobbies</td>\n",
       "    </tr>\n",
       "    <tr>\n",
       "      <th>7</th>\n",
       "      <td>Whare are your interests?</td>\n",
       "      <td>hobbies</td>\n",
       "      <td>[whare, interest]</td>\n",
       "      <td>Whare are your interests</td>\n",
       "    </tr>\n",
       "    <tr>\n",
       "      <th>8</th>\n",
       "      <td>What technologies do you know?</td>\n",
       "      <td>technologies</td>\n",
       "      <td>[technolog, know]</td>\n",
       "      <td>What technologies do you know</td>\n",
       "    </tr>\n",
       "    <tr>\n",
       "      <th>9</th>\n",
       "      <td>What's your data science stack?</td>\n",
       "      <td>technologies</td>\n",
       "      <td>[what, data, scienc, stack]</td>\n",
       "      <td>Whats your data science stack</td>\n",
       "    </tr>\n",
       "    <tr>\n",
       "      <th>10</th>\n",
       "      <td>When is your birthday?</td>\n",
       "      <td>birthday</td>\n",
       "      <td>[birthday]</td>\n",
       "      <td>When is your birthday</td>\n",
       "    </tr>\n",
       "    <tr>\n",
       "      <th>11</th>\n",
       "      <td>What's your favourite colour?</td>\n",
       "      <td>colour</td>\n",
       "      <td>[what, favourit, colour]</td>\n",
       "      <td>Whats your favourite colour</td>\n",
       "    </tr>\n",
       "    <tr>\n",
       "      <th>12</th>\n",
       "      <td>What did you study at Imperial?</td>\n",
       "      <td>education</td>\n",
       "      <td>[studi, imperi]</td>\n",
       "      <td>What did you study at Imperial</td>\n",
       "    </tr>\n",
       "    <tr>\n",
       "      <th>13</th>\n",
       "      <td>What did you study at Warwick?</td>\n",
       "      <td>education</td>\n",
       "      <td>[studi, warwick]</td>\n",
       "      <td>What did you study at Warwick</td>\n",
       "    </tr>\n",
       "  </tbody>\n",
       "</table>\n",
       "</div>"
      ],
      "text/plain": [
       "                                         keywords question_type  \\\n",
       "0                                           Hello      greeting   \n",
       "1                                              Hi      greeting   \n",
       "2                                             Hey      greeting   \n",
       "3                   What did you do at Darktrace?     darktrace   \n",
       "4   What were your responsibilities at Darktrace?     darktrace   \n",
       "5       What do you like to do in your free time?       hobbies   \n",
       "6                  What are some of your hobbies?       hobbies   \n",
       "7                       Whare are your interests?       hobbies   \n",
       "8                  What technologies do you know?  technologies   \n",
       "9                 What's your data science stack?  technologies   \n",
       "10                         When is your birthday?      birthday   \n",
       "11                  What's your favourite colour?        colour   \n",
       "12                What did you study at Imperial?     education   \n",
       "13                 What did you study at Warwick?     education   \n",
       "\n",
       "                   cleaned_text                                       no_punc  \n",
       "0                       [hello]                                         Hello  \n",
       "1                          [hi]                                            Hi  \n",
       "2                         [hey]                                           Hey  \n",
       "3                    [darktrac]                  What did you do at Darktrace  \n",
       "4           [respons, darktrac]  What were your responsibilities at Darktrace  \n",
       "5            [like, free, time]      What do you like to do in your free time  \n",
       "6                       [hobbi]                 What are some of your hobbies  \n",
       "7             [whare, interest]                      Whare are your interests  \n",
       "8             [technolog, know]                 What technologies do you know  \n",
       "9   [what, data, scienc, stack]                 Whats your data science stack  \n",
       "10                   [birthday]                         When is your birthday  \n",
       "11     [what, favourit, colour]                   Whats your favourite colour  \n",
       "12              [studi, imperi]                What did you study at Imperial  \n",
       "13             [studi, warwick]                 What did you study at Warwick  "
      ]
     },
     "execution_count": 23,
     "metadata": {},
     "output_type": "execute_result"
    }
   ],
   "source": [
    "cleaned_df.head(20)"
   ]
  },
  {
   "cell_type": "code",
   "execution_count": 26,
   "metadata": {},
   "outputs": [
    {
     "data": {
      "text/plain": [
       "{'birthday',\n",
       " 'colour',\n",
       " 'darktrac',\n",
       " 'data',\n",
       " 'favourit',\n",
       " 'free',\n",
       " 'hello',\n",
       " 'hey',\n",
       " 'hi',\n",
       " 'hobbi',\n",
       " 'imperi',\n",
       " 'interest',\n",
       " 'know',\n",
       " 'like',\n",
       " 'respons',\n",
       " 'scienc',\n",
       " 'stack',\n",
       " 'studi',\n",
       " 'technolog',\n",
       " 'time',\n",
       " 'warwick',\n",
       " 'whare',\n",
       " 'what'}"
      ]
     },
     "execution_count": 26,
     "metadata": {},
     "output_type": "execute_result"
    }
   ],
   "source": [
    "set(cleaned_df[\"cleaned_text\"].sum())"
   ]
  },
  {
   "cell_type": "code",
   "execution_count": null,
   "metadata": {},
   "outputs": [],
   "source": [
    "s"
   ]
  }
 ],
 "metadata": {
  "kernelspec": {
   "display_name": "sentiment_analysis",
   "language": "python",
   "name": "python3"
  },
  "language_info": {
   "codemirror_mode": {
    "name": "ipython",
    "version": 3
   },
   "file_extension": ".py",
   "mimetype": "text/x-python",
   "name": "python",
   "nbconvert_exporter": "python",
   "pygments_lexer": "ipython3",
   "version": "3.11.7"
  }
 },
 "nbformat": 4,
 "nbformat_minor": 2
}
